{
  "nbformat": 4,
  "nbformat_minor": 0,
  "metadata": {
    "colab": {
      "provenance": []
    },
    "kernelspec": {
      "name": "python3",
      "display_name": "Python 3"
    },
    "language_info": {
      "name": "python"
    }
  },
  "cells": [
    {
      "cell_type": "code",
      "execution_count": 1,
      "metadata": {
        "colab": {
          "base_uri": "https://localhost:8080/"
        },
        "id": "DrljtosGliTo",
        "outputId": "14751a9f-7f99-485e-d4c0-2d1a00a00699"
      },
      "outputs": [
        {
          "output_type": "stream",
          "name": "stdout",
          "text": [
            "Yes water is present\n"
          ]
        }
      ],
      "source": [
        "list=[\"mango\",\"tree\"]\n",
        "list.append(\"fire\")\n",
        "list.insert(3,\"water\")\n",
        "if \"water\" in list:\n",
        "  print(\"Yes water is present\")"
      ]
    },
    {
      "cell_type": "code",
      "source": [
        "message=\"mango is better then orange\" \n",
        "keyword=\"better no\"\n",
        "ciphertext=\"\" \n",
        "all_alphabets=[]\n",
        "for i in range(65,91):\n",
        "  all_alphabets.append(chr(i))\n",
        "msg=[]\n",
        "for i in message:\n",
        "  msg.append(i.upper())\n",
        "print(msg)\n",
        "keyword1=keyword.upper()\n",
        "def duplicates(list):\n",
        "  key=[]\n",
        "  for i in list:\n",
        "    if i not in key:\n",
        "      key.append(i)\n",
        "  return key\n",
        "keyword1=duplicates(keyword)\n",
        "print(\"Keyword after removing duplicate\", keyword1)\n",
        "encrypting=duplicates(keyword1+all_alphabets)\n",
        "print(\"Encrypting text is: \" , encrypting)\n",
        "for i in encrypting:\n",
        "  if(i==' '):\n",
        "    encrypting.remove(' ')\n",
        "for i in range(len(msg)):\n",
        "  if(msg[i]!=' '):\n",
        "    ciphertext=ciphertext+encrypting[all_alphabets.index(msg[i])]\n",
        "  else:\n",
        "    ciphertext=ciphertext+' ' \n",
        "print(keyword)\n",
        "print(message)"
      ],
      "metadata": {
        "colab": {
          "base_uri": "https://localhost:8080/"
        },
        "id": "gldMiCPjl-q7",
        "outputId": "9e8d5e68-683a-42d4-b822-03f79ab667e6"
      },
      "execution_count": 2,
      "outputs": [
        {
          "output_type": "stream",
          "name": "stdout",
          "text": [
            "['M', 'A', 'N', 'G', 'O', ' ', 'I', 'S', ' ', 'B', 'E', 'T', 'T', 'E', 'R', ' ', 'T', 'H', 'E', 'N', ' ', 'O', 'R', 'A', 'N', 'G', 'E']\n",
            "Keyword after removing duplicate ['b', 'e', 't', 'r', ' ', 'n', 'o']\n",
            "Encrypting text is:  ['b', 'e', 't', 'r', ' ', 'n', 'o', 'A', 'B', 'C', 'D', 'E', 'F', 'G', 'H', 'I', 'J', 'K', 'L', 'M', 'N', 'O', 'P', 'Q', 'R', 'S', 'T', 'U', 'V', 'W', 'X', 'Y', 'Z']\n",
            "better no\n",
            "mango is better then orange\n"
          ]
        }
      ]
    }
  ]
}